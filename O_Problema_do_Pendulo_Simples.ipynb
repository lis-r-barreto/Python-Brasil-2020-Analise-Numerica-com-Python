{
  "nbformat": 4,
  "nbformat_minor": 0,
  "metadata": {
    "colab": {
      "name": "O-Problema-do-Pendulo_Simples.ipynb",
      "provenance": [],
      "collapsed_sections": [],
      "authorship_tag": "ABX9TyPp1iAPFC3e3jmGPcHk4Z1v",
      "include_colab_link": true
    },
    "kernelspec": {
      "name": "python3",
      "display_name": "Python 3"
    }
  },
  "cells": [
    {
      "cell_type": "markdown",
      "metadata": {
        "id": "view-in-github",
        "colab_type": "text"
      },
      "source": [
        "<a href=\"https://colab.research.google.com/github/lis-r-barreto/Python-Brasil-2020-Analise-Numerica-com-Python/blob/master/O_Problema_do_Pendulo_Simples.ipynb\" target=\"_parent\"><img src=\"https://colab.research.google.com/assets/colab-badge.svg\" alt=\"Open In Colab\"/></a>"
      ]
    },
    {
      "cell_type": "markdown",
      "metadata": {
        "id": "LqzI5ieW9k15"
      },
      "source": [
        "# **Utilizando Python para resolver o problema de um Pêndulo Simples**\n",
        "# Por Lis R. Barreto"
      ]
    },
    {
      "cell_type": "markdown",
      "metadata": {
        "id": "QDokL_IL9tv2"
      },
      "source": [
        "# **Introdução**\n",
        "\n",
        "Na Mecânica, o pêndulo é muito utilizado em estudos da força peso e do movimento oscilatório. O modelo de oscilador harmônico pode ser usado para modelar alguns fenômenos como:\n",
        "* Calor;\n",
        "* Ondas eletromagnéticas;\n",
        "* Espectroscopia vibracional;\n",
        "* Acústica;\n",
        "* Dentre outros.\n"
      ]
    },
    {
      "cell_type": "markdown",
      "metadata": {
        "id": "3q2b0wqYGeQa"
      },
      "source": [
        "<p align=\"center\">\n",
        " <img width=\"460\" height=\"285\" src=\"https://i.pinimg.com/originals/06/af/25/06af25ffcd3d6c44c9416bebbb09a3be.gif\">\n",
        "</p>"
      ]
    },
    {
      "cell_type": "markdown",
      "metadata": {
        "id": "tXkrXRoorrWP"
      },
      "source": [
        "As oscilações estão presentes no nosso cotidiano, por exemplo, quando você toca violão."
      ]
    },
    {
      "cell_type": "markdown",
      "metadata": {
        "id": "wlDQuv6asUZT"
      },
      "source": [
        "<p align=\"center\">\n",
        " <img width=\"500\" height=\"270\" src=\"https://66.media.tumblr.com/55189ed85bcf704e98a792d42da511a8/tumblr_nfgw92ZlHj1u0us0to1_500.gif\">\n",
        "</p>"
      ]
    },
    {
      "cell_type": "markdown",
      "metadata": {
        "id": "RVFUjeqytOht"
      },
      "source": [
        "Esses fenômenos  que estão associados às oscilações podem ser observados em qualquer instrumento de cordas. No caso do violão, o som é produzido ao vibrar uma corda. As vibrações formam diferentes séries harmônicas e o estudo delas pode ser feito através da análise das suas características espectrais."
      ]
    },
    {
      "cell_type": "markdown",
      "metadata": {
        "id": "nNOKlvdAQ_yl"
      },
      "source": [
        "# **Equações Diferenciais Ordinárias (EDOs)**\n",
        "Basicamente, uma EDO é uma equação que envolve as derivadas de uma função desconhecida de uma variável. Um exemplo simples de uma equação diferencial ordinária é\n",
        "$$f' = f$$\n",
        "\n",
        "onde $f$ é uma função desconhecida, e $f'$ a sua derivada.\n"
      ]
    },
    {
      "cell_type": "markdown",
      "metadata": {
        "id": "oBoP-znoRtYR"
      },
      "source": [
        "# **Ordem de uma EDO**\n",
        "\n",
        "Seja $y$ uma função de $x$ e que as suas derivadas\n",
        "$$\\frac{dy}{dx}, \\frac{d^2y}{dx^2}, ..., \\frac{d^ny}{dx^n}$$\n",
        "\n",
        "A ordem de uma Equação Diferencial é denotada pela ordem $n$ da maior derivada na equação. \n",
        "\n",
        "**Exemplos:**\n",
        "* A EDO do crescimento exponencial é de primeira ordem\n",
        "$$\\frac{dx}{dt} = kx$$\n",
        "* A EDO do movimento do pêndulo simples é de segunda ordem\n",
        "$$\\frac{d^2\\theta}{dt^2} = - \\frac{g}{L} sen(\\theta)$$"
      ]
    },
    {
      "cell_type": "markdown",
      "metadata": {
        "id": "ud9Zaz_HdGfG"
      },
      "source": [
        "# **Em Busca de uma Solução Aproximada**\n",
        "\n",
        "Sabemos que todo o nosso universo é regido pelas leis da Física. Os fênomenos que ocorrem desde a escala subatômica até mesmo os que acontecem fora do nosso domínio da mecânica newtoniana, em sua maioria são modelados por equações matemáticas.\n",
        "\n",
        "Algumas equações são insolúveis ou são analiticamente difíceis para serem resolvidas. Nesse ínterim, os métodos numéricos são utilizados frequentemente como um recurso para solucionar problemas que comportam modelagem matemática.\n",
        "\n",
        "O físico **Dr. Benjamin Obi Tayo** em seu artigo intitulado *Simple Pendulum ODESolver using Python*, nos dá um exemplo de como podemos utilizar poderosas técnicas para encontrar uma solução aproximada da equação do movimento de um pêndulo simples. A seguir, alguns dos seus resultados são elucidados afim de discutirmos um pouco sobre a eficácia da Análise Numérica no tratamento de problemas advindos da Física e de uma maneira geral, das Ciências e Engenharias."
      ]
    },
    {
      "cell_type": "markdown",
      "metadata": {
        "id": "dVqHO_toG6OI"
      },
      "source": [
        "# **Equação do Movimento de um Pêndulo Simples**\n",
        "A equação do movimento de um pêndulo simples é dada por:\n",
        "$$\\frac{d^2\\theta}{dt^2} = - \\frac{g}{L} sen(\\theta)$$\n",
        "onde $g$ é a aceleração gravitacional e $L$ o comprimento do pêndulo.\n",
        "\n",
        "\n",
        "Por simplicidade, fazemos o fator $g/L$ igual a 1. Daí nós temos que:\n",
        "$$\\frac{d^2\\theta}{dt^2} = \\alpha(\\theta)$$\n",
        "onde a aceleração angular é:\n",
        "$$\\alpha(\\theta) = - sen(\\theta)$$\n",
        "\n"
      ]
    },
    {
      "cell_type": "markdown",
      "metadata": {
        "id": "mYgC_ofOiyHD"
      },
      "source": [
        "<p align=\"center\">\n",
        " <img width=\"400\" height=\"400\" src=\"https://sciencenotes.org/wp-content/uploads/2019/05/SimplePendulum.png\">\n",
        "</p>"
      ]
    },
    {
      "cell_type": "markdown",
      "metadata": {
        "id": "dyTZlcCyBJQO"
      },
      "source": [
        "A seguir, iremos descrever 3 métodos básicos que podem ser usados pra resolver uma EDO (Equação Diferencial Ordinária) de 2ª Ordem para um sistema simples de oscilação harmônica."
      ]
    },
    {
      "cell_type": "markdown",
      "metadata": {
        "id": "dnb4yfPQKJRZ"
      },
      "source": [
        "# **1. Método de Euler**\n",
        "O algoritmo do **Método de Euler** é um procedimento numérico amplamente utilizado para solucionar Equações Diferenciais Ordinárias com um valor inicial dado. Ele é considerado o tipo mais básico de método explícito para resolver EDOs de 1ª Ordem.\n",
        "\n",
        "Para utilizá-lo no nosso problema, reescrevemos a equação do movimento como duas EDOs de 1ª Ordem\n",
        "\n",
        "$$\\frac{d\\omega}{dt} = \\alpha(\\theta)$$\n",
        "\n",
        "$$\\frac{d\\theta}{dt} = \\omega$$\n",
        "\n",
        "E utilizando os valores iniciais de $\\theta_{0}$ e $\\omega_{0}$ calculamos o valor de $\\theta$ e $\\omega$ a cada iteração\n",
        "\n",
        "\n",
        "$$\\omega_{n+1} = \\omega_{n} + \\eta\\alpha_{n}$$\n",
        "\n",
        "$$\\theta_{n+1} = \\theta_{n} + \\eta\\omega_{n}$$\n",
        "\n",
        "sendo $\\eta$ o passo de tempo.\n"
      ]
    },
    {
      "cell_type": "markdown",
      "metadata": {
        "id": "qyMWFf_sKq4L"
      },
      "source": [
        "# **2. Método do Ponto Médio**\n",
        "\n",
        "O Método do Ponto Médio, popularmente conhecido com Método de Runge-Kutta de 2ª Ordem, também faz uso dos valores iniciais $\\theta_{0}$ e $\\omega_{0}$ para calcular o valor de $\\theta$ e $\\omega$ a cada iteração.\n",
        "Sendo assim,\n",
        "\n",
        "$$\\omega_{n+1} = \\omega_{n} + \\eta\\alpha_{n}$$\n",
        "\n",
        "$$\\theta_{n+1} = \\theta_{n} + \\eta(\\frac{\\omega_{n} + \\omega_{n+1}}{2})$$\n",
        "\n",
        "A principal diferença entre o Método de Euler e o do Ponto Médio é que $\\theta_{n+1}$ é calculado utilizando a partir do ponto médio da média entre $\\omega_{n}$ e  $\\omega_{n+1}$"
      ]
    },
    {
      "cell_type": "markdown",
      "metadata": {
        "id": "3CGtSGGoKxjT"
      },
      "source": [
        "# **3. Método de Verlet**\n",
        "O Método de Verlet possui uma diferente abordagem, pois é um método numérico usado para estudar equações do movimento de Newton de maneira mais específica. Seu algoritmo é frequentemente utilizado no cálculo da trajetória de partículas dinâmicas em simulações computacionais.\n",
        "Primeiramente, utilizamos os valores iniciais $\\theta_{0}$ e $\\omega_{0}$ para calcular $\\theta_{1}$\n",
        "\n",
        "$$\\theta_{1} = \\theta_{0} + \\omega_{0} \\eta + \\frac{1}{2} \\eta ^2 \\alpha_{0}$$\n",
        "\n",
        "A partir dos valor $\\theta_{0}$ e $\\theta_{1}$ podemos calcular os valores restantes de $\\theta$\n",
        "\n",
        "$$\\theta_{n+2} = \\theta_{n+1} - \\theta_{n} + \\eta ^2 \\alpha_{n+1}$$"
      ]
    },
    {
      "cell_type": "markdown",
      "metadata": {
        "id": "uzac8umgK4lE"
      },
      "source": [
        "# **Mão na Massa**"
      ]
    },
    {
      "cell_type": "code",
      "metadata": {
        "id": "VsTc3Ws0ogVB"
      },
      "source": [
        "# Importando as bibliotecas \n",
        "import numpy as np                # Biblioteca utilizada para trabalhar com funções matemáticas\n",
        "import matplotlib.pyplot as plt   # Biblioteca utilizada para criação de gráficos e visualização de dados"
      ],
      "execution_count": null,
      "outputs": []
    },
    {
      "cell_type": "code",
      "metadata": {
        "id": "JD0oM7U2pFYY"
      },
      "source": [
        "# Resolvendo a EDO de 2ª Ordem\n",
        "\n",
        "class ODESolver(object):\n",
        "      \n",
        "    def __init__(self, omega_0 = 0, theta_0 = 10, eta=0.01, n_iter=10):\n",
        "        self.omega_0 = omega_0\n",
        "        self.theta_0 = theta_0\n",
        "        self.eta = eta\n",
        "        self.n_iter = n_iter\n",
        "\n",
        "# Implementando o Método de Euler        \n",
        "\n",
        "    def euler(self,alpha):\n",
        "       \n",
        "        self.time_ = np.zeros(self.n_iter)\n",
        "        self.omega_ = np.zeros(self.n_iter)\n",
        "        self.theta_ = np.zeros(self.n_iter)\n",
        "        self.omega_[0] = self.omega_0\n",
        "        self.theta_[0] = self.theta_0*np.pi/180.0\n",
        "        \n",
        "        for i in range(self.n_iter-1):\n",
        "            self.time_[i+1] = self.time_[i] + self.eta\n",
        "            self.omega_[i+1] = self.omega_[i] + self.eta*alpha(self.theta_[i])\n",
        "            self.theta_[i+1] = self.theta_[i] + self.eta*self.omega_[i]\n",
        "        return self\n",
        "\n",
        "# Implementando o Método do Ponto Médio    \n",
        "\n",
        "    def midpoint(self,alpha):\n",
        "        self.time_ = np.zeros(self.n_iter)\n",
        "        self.omega_ = np.zeros(self.n_iter)\n",
        "        self.theta_ = np.zeros(self.n_iter)\n",
        "        self.omega_[0] = self.omega_0\n",
        "        self.theta_[0] = self.theta_0*np.pi/180.0\n",
        "        \n",
        "        for i in range(self.n_iter-1):\n",
        "            self.time_[i+1] = self.time_[i] + self.eta\n",
        "            self.omega_[i+1] = self.omega_[i] + self.eta*alpha(self.theta_[i])\n",
        "            self.theta_[i+1] = self.theta_[i] + 0.5*self.eta*(self.omega_[i]+self.omega_[i+1])\n",
        "        return self\n",
        "        \n",
        "# Implementando o Método de Verlet\n",
        "\n",
        "    def verlet(self,alpha):\n",
        "        self.time_ = np.zeros(self.n_iter)\n",
        "        self.theta_ = np.zeros(self.n_iter)\n",
        "        self.theta_[0] = self.theta_0*np.pi/180.0\n",
        "        self.time_[1]= self.eta\n",
        "        self.theta_[1] = self.theta_[0]+self.omega_0*self.eta +0.5* (self.eta**2)*alpha(self.theta_[0])\n",
        "        \n",
        "        for i in range(self.n_iter-2):\n",
        "            self.time_[i+2] = self.time_[i+1] + self.eta\n",
        "            self.theta_[i+2] = 2.0*self.theta_[i+1] -self.theta_[i] + (self.eta**2)*alpha(self.theta_[i+1])\n",
        "        return self"
      ],
      "execution_count": null,
      "outputs": []
    },
    {
      "cell_type": "code",
      "metadata": {
        "id": "I3FRAvqJpSHj"
      },
      "source": [
        "# Definindo a função de aceleração angular\n",
        "def alpha(x):\n",
        "    return -np.sin(x)"
      ],
      "execution_count": null,
      "outputs": []
    },
    {
      "cell_type": "markdown",
      "metadata": {
        "id": "t87bkQ5j9Akp"
      },
      "source": [
        "# **Exemplo 1: Método de Euler**"
      ]
    },
    {
      "cell_type": "code",
      "metadata": {
        "id": "decHk1kKpWGG",
        "colab": {
          "base_uri": "https://localhost:8080/",
          "height": 298
        },
        "outputId": "10bd4d0d-b033-4779-ba2d-822429b48cc2"
      },
      "source": [
        "time=ODESolver(omega_0 = 0, theta_0 = 10, eta=0.1, n_iter=300).euler(alpha).time_\n",
        "theta=ODESolver(omega_0 = 0, theta_0 = 10, eta=0.1, n_iter=300).euler(alpha).theta_\n",
        "plt.plot(time,theta*180/np.pi,lw=3,color='blue')\n",
        "plt.xlabel('tempo(s)',size=13)\n",
        "plt.ylabel('ângulo ($°$)',size=13)\n",
        "plt.title('Método de Euler',size=13)\n",
        "plt.show()"
      ],
      "execution_count": null,
      "outputs": [
        {
          "output_type": "display_data",
          "data": {
            "image/png": "[encoded data removed]",
            "text/plain": [
              "<Figure size 432x288 with 1 Axes>"
            ]
          },
          "metadata": {
            "tags": [],
            "needs_background": "light"
          }
        }
      ]
    },
    {
      "cell_type": "markdown",
      "metadata": {
        "id": "GsdlIu0l9T-r"
      },
      "source": [
        "O Método de Euler nos dá um solução pouco estável. Em frequências específicas há oscilações com maior amplitude. Este fato pode gerar certa confusão, já que temos a impressão de que a solução é um típico exemplo de oscilação forçada, o que não é verdade, já que o problema do pêndulo simples é ideal, isto é, não há força de atrito no movimento pendular. Poderíamos reduzir a instabilidade dos sistema com a diminuição do passo de tempo $(\\eta)$ para valores menores do que 0.1."
      ]
    },
    {
      "cell_type": "markdown",
      "metadata": {
        "id": "H0a2xTe99Enm"
      },
      "source": [
        "# **Exemplo 2: Método do Ponto Médio**"
      ]
    },
    {
      "cell_type": "code",
      "metadata": {
        "id": "ISZFM2WApWwI",
        "colab": {
          "base_uri": "https://localhost:8080/",
          "height": 298
        },
        "outputId": "c68c2ef0-817e-4c86-aca8-fc59bc00a24f"
      },
      "source": [
        "time=ODESolver(omega_0 = 0, theta_0 = 10, eta=0.1, n_iter=300).midpoint(alpha).time_\n",
        "theta=ODESolver(omega_0 = 0, theta_0 = 10, eta=0.1, n_iter=300).midpoint(alpha).theta_\n",
        "plt.plot(time,theta*180/np.pi,lw=3,color='red')\n",
        "plt.xlabel('tempo(s)',size=13)\n",
        "plt.ylabel('ângulo ($°$)',size=13)\n",
        "plt.title('Método do Ponto Médio',size=13)\n",
        "plt.show()"
      ],
      "execution_count": null,
      "outputs": [
        {
          "output_type": "display_data",
          "data": {
            "image/png": "[encoded data removed]",
            "text/plain": [
              "<Figure size 432x288 with 1 Axes>"
            ]
          },
          "metadata": {
            "tags": [],
            "needs_background": "light"
          }
        }
      ]
    },
    {
      "cell_type": "markdown",
      "metadata": {
        "id": "XfPVKuyA9XdE"
      },
      "source": [
        "O Método do Ponto Médio nos dá um solução relativamente mais estável se comparada ao Método de Euler, mas ainda assim não resolve o nosso problema de forma eficaz. De maneira geral, isso pode ocorrer quando utilizamos essa abordagem para solucionar qualquer problema mecânico de uma ou N partículas com movimento confinado por um potencial, já que ocorre o aumento contínuo da energia mecânica quando essa deveria ser constante. Mais uma vez poderia ser utilizado o artifício da diminuição do passo de tempo $(\\eta)$ para valores inferiores a 0.1, afim de reduzir a instabilidade no sistema."
      ]
    },
    {
      "cell_type": "markdown",
      "metadata": {
        "id": "Bq8oANVh9Hga"
      },
      "source": [
        "# **Exemplo 3: Método de Verlet**"
      ]
    },
    {
      "cell_type": "code",
      "metadata": {
        "id": "BsKFKuaFppRb",
        "colab": {
          "base_uri": "https://localhost:8080/",
          "height": 298
        },
        "outputId": "14e477b4-545b-42be-9e21-f73a934941f8"
      },
      "source": [
        "time=ODESolver(omega_0 = 0, theta_0 = 10, eta=0.1, n_iter=300).verlet(alpha).time_\n",
        "theta=ODESolver(omega_0 = 0, theta_0 = 10, eta=0.1, n_iter=300).verlet(alpha).theta_\n",
        "plt.plot(time,theta*180/np.pi,lw=3,color='green')\n",
        "plt.xlabel('tempo(s)',size=13)\n",
        "plt.ylabel('ângulo ($°$)',size=13)\n",
        "plt.title('Método de Verlet',size=13)\n",
        "plt.show()"
      ],
      "execution_count": null,
      "outputs": [
        {
          "output_type": "display_data",
          "data": {
            "image/png": "[encoded data removed]",
            "text/plain": [
              "<Figure size 432x288 with 1 Axes>"
            ]
          },
          "metadata": {
            "tags": [],
            "needs_background": "light"
          }
        }
      ]
    },
    {
      "cell_type": "markdown",
      "metadata": {
        "id": "LGiL_ymm9You"
      },
      "source": [
        "Como podemos observar o Método de Verlet é mais preciso e robusto que os anteriores. Isso ocorre devido ao fato de que o erro para este método em específico é mínimo. O Método de Euler e o Método do Ponto Médio não funcionam tão bem para a resolução de um problema tão simples quanto o oscilador harmônico, independentemente de quão pequeno seja o passo de tempo."
      ]
    },
    {
      "cell_type": "markdown",
      "metadata": {
        "id": "SX3EekCc9hK_"
      },
      "source": [
        "# **Conclusão**\n",
        "\n",
        "À primeira vista é comum calcular trajetórias usando o Método de Euler e o Método do Ponto Médio. Contudo, estes dois tipos de integração não são tão precisos quando utilizados para resolver alguns problemas, a exemplo do oscilador harmônico. A explicação para esse fato está ligada ao erro produzido por cada um dos métodos durante a sua atualização. Constatamos através da soluções numéricas que a estabilidade da técnica depende bastante da capacidade de identificar com precisão as posições do pêndulo em uma pequena variação de tempo. Concluímos que o Método de Verlet se mostrou como a melhor alternativa para resolver a EDO do movimento pendular, pois, independentemente de quão pequeno seja o passo em relação ao tempo, a solução aproximada nos mostra um sistema com estabilidade."
      ]
    },
    {
      "cell_type": "markdown",
      "metadata": {
        "id": "B-_801emVq8U"
      },
      "source": [
        "# **Referências**\n",
        "\n",
        "* \"Simple Pendulum ODESolver using python\": http://abre.ai/simple_pendulum_odesolver_using_python\n",
        "\n",
        "* \"Equação diferencial ordinária\": http://abre.ai/equacoes_diferenciais_ordinarias\n",
        "\n",
        "* \"Oscilador harmônico\": http://abre.ai/oscilador_harmonico\n",
        "\n",
        "* \"Método de Euler\": http://abre.ai/metodo_de_euler\n",
        "\n",
        "* \"Método do Ponto Médio\": http://abre.ai/metodo_do_ponto_medio\n",
        "\n",
        "* \"Método de Verlet\": http://abre.ai/metodo_de_verlet"
      ]
    }
  ]
}